{
 "cells": [
  {
   "cell_type": "code",
   "execution_count": 1,
   "metadata": {
    "id": "2L_yKE1IgpA0"
   },
   "outputs": [],
   "source": [
    "from utils_v1 import *\n",
    "# root_path = 'F:/Doctorado/Deforestation_SAR/Tensorflow2/INPE_Project/'\n",
    "root_path = 'D:/jorg/phd/fifth_semester/project_forestcare/data/'"
   ]
  },
  {
   "cell_type": "code",
   "execution_count": 2,
   "metadata": {},
   "outputs": [
    {
     "name": "stdout",
     "output_type": "stream",
     "text": [
      "image shape:  \n",
      " (5013, 5003, 14) \n",
      " reference shape:  \n",
      " (5013, 5003)\n",
      "Percentage of deforestaion class is 0.15\n",
      "Percentage of no-deforestaion class is 76.99\n",
      "Percentage of past-deforestaion class is 22.85\n"
     ]
    }
   ],
   "source": [
    "# Loading images\n",
    "image_stack = np.load(root_path+'filt_norm_img_2019_2020.npy')\n",
    "\n",
    "# Loading reference\n",
    "label_mask = np.load(root_path+'label_mask_2019_2020.npy')\n",
    "\n",
    "print('image shape: ', '\\n', image_stack.shape, '\\n', 'reference shape: ', '\\n', label_mask.shape)\n",
    "\n",
    "# Print pertengate of each class (whole image)\n",
    "no_def = len(label_mask[label_mask==0])\n",
    "def_ = len(label_mask[label_mask==1])\n",
    "pt_def = len(label_mask[label_mask==2])\n",
    "print('Percentage of deforestaion class is {:.2f}'.format((def_*100)/(label_mask.shape[0]*label_mask.shape[1])))\n",
    "print('Percentage of no-deforestaion class is {:.2f}'.format((no_def*100)/(label_mask.shape[0]*label_mask.shape[1])))\n",
    "print('Percentage of past-deforestaion class is {:.2f}'.format((pt_def*100)/(label_mask.shape[0]*label_mask.shape[1])))"
   ]
  },
  {
   "cell_type": "code",
   "execution_count": 3,
   "metadata": {},
   "outputs": [
    {
     "name": "stdout",
     "output_type": "stream",
     "text": [
      "Tiles size:  1002 1000\n",
      "Mask size:  (5010, 5000)\n",
      "mask:  (5010, 5000)\n",
      "image stack:  (5010, 5000, 14)\n",
      "ref : (5010, 5000)\n"
     ]
    }
   ],
   "source": [
    "# Creating tile mask\n",
    "grid_x, grid_y = 5,5\n",
    "mask_tiles = create_mask(label_mask.shape[0], label_mask.shape[1], grid_size=(grid_x, grid_y))\n",
    "image_stack = image_stack[:mask_tiles.shape[0], :mask_tiles.shape[1],:]\n",
    "label_mask = label_mask[:mask_tiles.shape[0], :mask_tiles.shape[1]]\n",
    "\n",
    "print('mask: ',mask_tiles.shape)\n",
    "print('image stack: ', image_stack.shape)\n",
    "print('ref :', label_mask.shape)"
   ]
  },
  {
   "cell_type": "code",
   "execution_count": 4,
   "metadata": {
    "colab": {
     "base_uri": "https://localhost:8080/"
    },
    "id": "OKaXQmmGoxLz",
    "outputId": "e01be7a8-5e4e-4bc7-9cd7-f5ffdf670cc9"
   },
   "outputs": [
    {
     "name": "stdout",
     "output_type": "stream",
     "text": [
      "Training tiles:  [2, 4, 5, 6, 7, 12, 14, 15, 18, 21, 23, 24]\n",
      "Validation tiles:  [9, 11, 25]\n",
      "Test tiles:  [1, 3, 8, 10, 13, 16, 17, 19, 20, 22]\n"
     ]
    }
   ],
   "source": [
    "# Defining tiles for training, validation and test sets\n",
    "tiles_tr = [2,4,5,6,7,12,14,15,18,21,23,24] \n",
    "tiles_val = [9,11,25]\n",
    "tiles_ts = list(set(np.arange(grid_x * grid_y)+1)-set(tiles_tr)-set(tiles_val))\n",
    "    \n",
    "print('Training tiles: ', tiles_tr)\n",
    "print('Validation tiles: ', tiles_val)\n",
    "print('Test tiles: ', tiles_ts)\n",
    "\n",
    "# Training and validation mask\n",
    "mask_tr_val = np.zeros((mask_tiles.shape)).astype('float32')\n",
    "\n",
    "for tr_ in tiles_tr:\n",
    "    mask_tr_val[mask_tiles == tr_] = 1\n",
    "\n",
    "for val_ in tiles_val:\n",
    "    mask_tr_val[mask_tiles == val_] = 2\n",
    "\n",
    "mask_amazon_ts = np.zeros((mask_tiles.shape)).astype('float32')\n",
    "for ts_ in tiles_ts:\n",
    "    mask_amazon_ts[mask_tiles == ts_] = 1"
   ]
  },
  {
   "cell_type": "code",
   "execution_count": 5,
   "metadata": {
    "id": "QI8Gc-NQrr44"
   },
   "outputs": [],
   "source": [
    "overlap = 0.75\n",
    "patch_size = 128\n",
    "batch_size = 32\n",
    "im_idx = create_idx_image(label_mask)\n",
    "patches_idx = extract_patches(im_idx, patch_size=(patch_size, patch_size), overlap=overlap).reshape(-1,patch_size, patch_size)\n",
    "patches_mask = extract_patches(mask_tr_val, patch_size=(patch_size, patch_size), overlap=overlap).reshape(-1, patch_size, patch_size)\n",
    "del im_idx"
   ]
  },
  {
   "cell_type": "code",
   "execution_count": 6,
   "metadata": {
    "colab": {
     "base_uri": "https://localhost:8080/"
    },
    "id": "1V39Gf4owRBa",
    "outputId": "782257f7-6a32-4688-815c-282710ef91ad"
   },
   "outputs": [
    {
     "name": "stdout",
     "output_type": "stream",
     "text": [
      "Number of training and validation patches:   9787 2268\n"
     ]
    }
   ],
   "source": [
    "# Selecting index trn val and test patches idx\n",
    "idx_trn = np.squeeze(np.where(patches_mask.sum(axis=(1, 2))==patch_size**2))\n",
    "idx_val = np.squeeze(np.where(patches_mask.sum(axis=(1, 2))==2*patch_size**2))\n",
    "del patches_mask\n",
    "\n",
    "patches_idx_trn = patches_idx[idx_trn]\n",
    "patches_idx_val = patches_idx[idx_val]\n",
    "del idx_trn, idx_val\n",
    "\n",
    "print('Number of training and validation patches:  ', len(patches_idx_trn), len(patches_idx_val))"
   ]
  },
  {
   "cell_type": "code",
   "execution_count": 7,
   "metadata": {
    "colab": {
     "base_uri": "https://localhost:8080/"
    },
    "id": "ycpxzOJblJvr",
    "outputId": "0d55f5db-3630-4be1-c049-5b29e864b278"
   },
   "outputs": [
    {
     "name": "stdout",
     "output_type": "stream",
     "text": [
      "training samples:  (924, 128, 128) validation samples:  (275, 128, 128)\n"
     ]
    }
   ],
   "source": [
    "# Keeping patches with 2% of def class\n",
    "X_train = retrieve_idx_percentage(label_mask, patches_idx_trn, patch_size, pertentage = 0.2)\n",
    "X_valid = retrieve_idx_percentage(label_mask, patches_idx_val, patch_size, pertentage = 0.2)\n",
    "print('training samples: ', X_train.shape, 'validation samples: ', X_valid.shape)"
   ]
  },
  {
   "cell_type": "code",
   "execution_count": 8,
   "metadata": {
    "id": "hpchvB9nZOmC"
   },
   "outputs": [],
   "source": [
    "# Creating train and validation data generator\n",
    "train_datagen = ImageDataGenerator()\n",
    "valid_datagen = ImageDataGenerator()\n",
    "\n",
    "y_train = np.zeros((len(X_train)))\n",
    "y_valid = np.zeros((len(X_valid)))\n",
    "\n",
    "train_gen = train_datagen.flow(np.expand_dims(X_train, axis = -1), y_train,\n",
    "                              batch_size=batch_size,\n",
    "                              shuffle=True)\n",
    "\n",
    "valid_gen = valid_datagen.flow(np.expand_dims(X_valid, axis = -1), y_valid,\n",
    "                              batch_size=batch_size,\n",
    "                              shuffle=False)\n",
    "\n",
    "number_class = 3\n",
    "train_gen_crops = batch_generator(train_gen, image_stack, label_mask, patch_size, number_class)\n",
    "valid_gen_crops = batch_generator(valid_gen, image_stack, label_mask, patch_size, number_class)"
   ]
  },
  {
   "cell_type": "code",
   "execution_count": 9,
   "metadata": {
    "id": "QfJK-atSgFTG"
   },
   "outputs": [],
   "source": [
    "exp = 0\n",
    "path_exp = root_path+'Experiments/exp'+str(exp)\n",
    "path_models = path_exp+'/models'\n",
    "path_maps = path_exp+'/pred_maps'\n",
    "\n",
    "if not os.path.exists(path_exp):\n",
    "    os.makedirs(path_exp)   \n",
    "if not os.path.exists(path_models):\n",
    "    os.makedirs(path_models)   \n",
    "if not os.path.exists(path_maps):\n",
    "    os.makedirs(path_maps)\n",
    "    \n",
    "times = 1\n",
    "method = 'resunet'\n",
    "nb_filters = [16, 32, 64, 128, 256]\n",
    "weights = [0.1, 0.9, 0]"
   ]
  },
  {
   "cell_type": "code",
   "execution_count": 10,
   "metadata": {
    "colab": {
     "base_uri": "https://localhost:8080/"
    },
    "id": "568DB3nZLrHC",
    "outputId": "a42680db-a55e-4dab-d815-a8038da73776"
   },
   "outputs": [
    {
     "name": "stdout",
     "output_type": "stream",
     "text": [
      "time:  0\n"
     ]
    },
    {
     "name": "stderr",
     "output_type": "stream",
     "text": [
      "C:\\Users\\jchamorro\\Anaconda3\\envs\\tf2\\lib\\site-packages\\tensorflow\\python\\keras\\optimizer_v2\\optimizer_v2.py:374: UserWarning: The `lr` argument is deprecated, use `learning_rate` instead.\n",
      "  warnings.warn(\n"
     ]
    },
    {
     "name": "stdout",
     "output_type": "stream",
     "text": [
      "Model: \"model\"\n",
      "__________________________________________________________________________________________________\n",
      "Layer (type)                    Output Shape         Param #     Connected to                     \n",
      "==================================================================================================\n",
      "input_enc_net (InputLayer)      [(None, 128, 128, 14 0                                            \n",
      "__________________________________________________________________________________________________\n",
      "res1_net1 (Conv2D)              (None, 128, 128, 16) 2032        input_enc_net[0][0]              \n",
      "__________________________________________________________________________________________________\n",
      "drop_net1 (Dropout)             (None, 128, 128, 16) 0           res1_net1[0][0]                  \n",
      "__________________________________________________________________________________________________\n",
      "res2_net1 (Conv2D)              (None, 128, 128, 16) 2320        drop_net1[0][0]                  \n",
      "__________________________________________________________________________________________________\n",
      "res3_net1 (Conv2D)              (None, 128, 128, 16) 240         input_enc_net[0][0]              \n",
      "__________________________________________________________________________________________________\n",
      "add (Add)                       (None, 128, 128, 16) 0           res2_net1[0][0]                  \n",
      "                                                                 res3_net1[0][0]                  \n",
      "__________________________________________________________________________________________________\n",
      "pool_net1 (MaxPooling2D)        (None, 64, 64, 16)   0           add[0][0]                        \n",
      "__________________________________________________________________________________________________\n",
      "res1_net2 (Conv2D)              (None, 64, 64, 32)   4640        pool_net1[0][0]                  \n",
      "__________________________________________________________________________________________________\n",
      "drop_net2 (Dropout)             (None, 64, 64, 32)   0           res1_net2[0][0]                  \n",
      "__________________________________________________________________________________________________\n",
      "res2_net2 (Conv2D)              (None, 64, 64, 32)   9248        drop_net2[0][0]                  \n",
      "__________________________________________________________________________________________________\n",
      "res3_net2 (Conv2D)              (None, 64, 64, 32)   544         pool_net1[0][0]                  \n",
      "__________________________________________________________________________________________________\n",
      "add_1 (Add)                     (None, 64, 64, 32)   0           res2_net2[0][0]                  \n",
      "                                                                 res3_net2[0][0]                  \n",
      "__________________________________________________________________________________________________\n",
      "pool_net2 (MaxPooling2D)        (None, 32, 32, 32)   0           add_1[0][0]                      \n",
      "__________________________________________________________________________________________________\n",
      "res1_net3 (Conv2D)              (None, 32, 32, 64)   18496       pool_net2[0][0]                  \n",
      "__________________________________________________________________________________________________\n",
      "drop_net3 (Dropout)             (None, 32, 32, 64)   0           res1_net3[0][0]                  \n",
      "__________________________________________________________________________________________________\n",
      "res2_net3 (Conv2D)              (None, 32, 32, 64)   36928       drop_net3[0][0]                  \n",
      "__________________________________________________________________________________________________\n",
      "res3_net3 (Conv2D)              (None, 32, 32, 64)   2112        pool_net2[0][0]                  \n",
      "__________________________________________________________________________________________________\n",
      "add_2 (Add)                     (None, 32, 32, 64)   0           res2_net3[0][0]                  \n",
      "                                                                 res3_net3[0][0]                  \n",
      "__________________________________________________________________________________________________\n",
      "pool_net3 (MaxPooling2D)        (None, 16, 16, 64)   0           add_2[0][0]                      \n",
      "__________________________________________________________________________________________________\n",
      "res1_net4 (Conv2D)              (None, 16, 16, 128)  73856       pool_net3[0][0]                  \n",
      "__________________________________________________________________________________________________\n",
      "drop_net4 (Dropout)             (None, 16, 16, 128)  0           res1_net4[0][0]                  \n",
      "__________________________________________________________________________________________________\n",
      "res2_net4 (Conv2D)              (None, 16, 16, 128)  147584      drop_net4[0][0]                  \n",
      "__________________________________________________________________________________________________\n",
      "res3_net4 (Conv2D)              (None, 16, 16, 128)  8320        pool_net3[0][0]                  \n",
      "__________________________________________________________________________________________________\n",
      "add_3 (Add)                     (None, 16, 16, 128)  0           res2_net4[0][0]                  \n",
      "                                                                 res3_net4[0][0]                  \n",
      "__________________________________________________________________________________________________\n",
      "pool_net4 (MaxPooling2D)        (None, 8, 8, 128)    0           add_3[0][0]                      \n",
      "__________________________________________________________________________________________________\n",
      "res1_net5 (Conv2D)              (None, 8, 8, 256)    295168      pool_net4[0][0]                  \n",
      "__________________________________________________________________________________________________\n",
      "drop_net5 (Dropout)             (None, 8, 8, 256)    0           res1_net5[0][0]                  \n",
      "__________________________________________________________________________________________________\n",
      "res2_net5 (Conv2D)              (None, 8, 8, 256)    590080      drop_net5[0][0]                  \n",
      "__________________________________________________________________________________________________\n",
      "res3_net5 (Conv2D)              (None, 8, 8, 256)    33024       pool_net4[0][0]                  \n",
      "__________________________________________________________________________________________________\n",
      "add_4 (Add)                     (None, 8, 8, 256)    0           res2_net5[0][0]                  \n",
      "                                                                 res3_net5[0][0]                  \n",
      "__________________________________________________________________________________________________\n",
      "up_sampling2d (UpSampling2D)    (None, 16, 16, 256)  0           add_4[0][0]                      \n",
      "__________________________________________________________________________________________________\n",
      "upsampling_net4 (Conv2D)        (None, 16, 16, 128)  295040      up_sampling2d[0][0]              \n",
      "__________________________________________________________________________________________________\n",
      "concatenate4 (Concatenate)      (None, 16, 16, 256)  0           add_3[0][0]                      \n",
      "                                                                 upsampling_net4[0][0]            \n",
      "__________________________________________________________________________________________________\n",
      "up_sampling2d_1 (UpSampling2D)  (None, 32, 32, 256)  0           concatenate4[0][0]               \n",
      "__________________________________________________________________________________________________\n",
      "upsampling_net3 (Conv2D)        (None, 32, 32, 64)   147520      up_sampling2d_1[0][0]            \n",
      "__________________________________________________________________________________________________\n",
      "concatenate3 (Concatenate)      (None, 32, 32, 128)  0           add_2[0][0]                      \n",
      "                                                                 upsampling_net3[0][0]            \n",
      "__________________________________________________________________________________________________\n",
      "up_sampling2d_2 (UpSampling2D)  (None, 64, 64, 128)  0           concatenate3[0][0]               \n",
      "__________________________________________________________________________________________________\n",
      "upsampling_net2 (Conv2D)        (None, 64, 64, 32)   36896       up_sampling2d_2[0][0]            \n",
      "__________________________________________________________________________________________________\n",
      "concatenate2 (Concatenate)      (None, 64, 64, 64)   0           add_1[0][0]                      \n",
      "                                                                 upsampling_net2[0][0]            \n",
      "__________________________________________________________________________________________________\n",
      "up_sampling2d_3 (UpSampling2D)  (None, 128, 128, 64) 0           concatenate2[0][0]               \n",
      "__________________________________________________________________________________________________\n",
      "upsampling_net1 (Conv2D)        (None, 128, 128, 16) 9232        up_sampling2d_3[0][0]            \n",
      "__________________________________________________________________________________________________\n",
      "concatenate1 (Concatenate)      (None, 128, 128, 32) 0           add[0][0]                        \n",
      "                                                                 upsampling_net1[0][0]            \n",
      "__________________________________________________________________________________________________\n",
      "output (Conv2D)                 (None, 128, 128, 3)  99          concatenate1[0][0]               \n",
      "==================================================================================================\n",
      "Total params: 1,713,379\n",
      "Trainable params: 1,713,379\n",
      "Non-trainable params: 0\n",
      "__________________________________________________________________________________________________\n"
     ]
    },
    {
     "name": "stderr",
     "output_type": "stream",
     "text": [
      "C:\\Users\\jchamorro\\Anaconda3\\envs\\tf2\\lib\\site-packages\\tensorflow\\python\\keras\\engine\\training.py:1940: UserWarning: `Model.fit_generator` is deprecated and will be removed in a future version. Please use `Model.fit`, which supports generators.\n",
      "  warnings.warn('`Model.fit_generator` is deprecated and '\n"
     ]
    },
    {
     "name": "stdout",
     "output_type": "stream",
     "text": [
      "Epoch 1/100\n",
      "86/86 [==============================] - 18s 148ms/step - loss: 0.0350 - accuracy: 0.8148 - val_loss: 0.0269 - val_accuracy: 0.8689\n",
      "\n",
      "Epoch 00001: val_loss improved from inf to 0.02689, saving model to D:/jorg/phd/fifth_semester/project_forestcare/data/Experiments/exp0/models\\resunet_0.h5\n",
      "Epoch 2/100\n"
     ]
    },
    {
     "name": "stderr",
     "output_type": "stream",
     "text": [
      "C:\\Users\\jchamorro\\Anaconda3\\envs\\tf2\\lib\\site-packages\\tensorflow\\python\\keras\\utils\\generic_utils.py:494: CustomMaskWarning: Custom mask layers require a config and must override get_config. When loading, the custom mask layer must be passed to the custom_objects argument.\n",
      "  warnings.warn('Custom mask layers require a config and must override '\n"
     ]
    },
    {
     "name": "stdout",
     "output_type": "stream",
     "text": [
      "86/86 [==============================] - 10s 121ms/step - loss: 0.0173 - accuracy: 0.8848 - val_loss: 0.0253 - val_accuracy: 0.8635\n",
      "\n",
      "Epoch 00002: val_loss improved from 0.02689 to 0.02530, saving model to D:/jorg/phd/fifth_semester/project_forestcare/data/Experiments/exp0/models\\resunet_0.h5\n",
      "Epoch 3/100\n",
      "86/86 [==============================] - 10s 120ms/step - loss: 0.0152 - accuracy: 0.8907 - val_loss: 0.0209 - val_accuracy: 0.8689\n",
      "\n",
      "Epoch 00003: val_loss improved from 0.02530 to 0.02088, saving model to D:/jorg/phd/fifth_semester/project_forestcare/data/Experiments/exp0/models\\resunet_0.h5\n",
      "Epoch 4/100\n",
      "86/86 [==============================] - 11s 128ms/step - loss: 0.0146 - accuracy: 0.8931 - val_loss: 0.0182 - val_accuracy: 0.8725\n",
      "\n",
      "Epoch 00004: val_loss improved from 0.02088 to 0.01816, saving model to D:/jorg/phd/fifth_semester/project_forestcare/data/Experiments/exp0/models\\resunet_0.h5\n",
      "Epoch 5/100\n",
      "86/86 [==============================] - 11s 125ms/step - loss: 0.0141 - accuracy: 0.8952 - val_loss: 0.0166 - val_accuracy: 0.8764\n",
      "\n",
      "Epoch 00005: val_loss improved from 0.01816 to 0.01663, saving model to D:/jorg/phd/fifth_semester/project_forestcare/data/Experiments/exp0/models\\resunet_0.h5\n",
      "Epoch 6/100\n",
      "86/86 [==============================] - 11s 126ms/step - loss: 0.0137 - accuracy: 0.8959 - val_loss: 0.0161 - val_accuracy: 0.8774\n",
      "\n",
      "Epoch 00006: val_loss improved from 0.01663 to 0.01608, saving model to D:/jorg/phd/fifth_semester/project_forestcare/data/Experiments/exp0/models\\resunet_0.h5\n",
      "Epoch 7/100\n",
      "86/86 [==============================] - 11s 128ms/step - loss: 0.0134 - accuracy: 0.8976 - val_loss: 0.0165 - val_accuracy: 0.8748\n",
      "\n",
      "Epoch 00007: val_loss did not improve from 0.01608\n",
      "Epoch 8/100\n",
      "86/86 [==============================] - 11s 132ms/step - loss: 0.0131 - accuracy: 0.8986 - val_loss: 0.0162 - val_accuracy: 0.8744\n",
      "\n",
      "Epoch 00008: val_loss did not improve from 0.01608\n",
      "Epoch 9/100\n",
      "86/86 [==============================] - 11s 133ms/step - loss: 0.0128 - accuracy: 0.8996 - val_loss: 0.0159 - val_accuracy: 0.8747\n",
      "\n",
      "Epoch 00009: val_loss improved from 0.01608 to 0.01590, saving model to D:/jorg/phd/fifth_semester/project_forestcare/data/Experiments/exp0/models\\resunet_0.h5\n",
      "Epoch 10/100\n",
      "86/86 [==============================] - 11s 133ms/step - loss: 0.0124 - accuracy: 0.9011 - val_loss: 0.0163 - val_accuracy: 0.8758\n",
      "\n",
      "Epoch 00010: val_loss did not improve from 0.01590\n",
      "Epoch 11/100\n",
      "86/86 [==============================] - 11s 133ms/step - loss: 0.0123 - accuracy: 0.9019 - val_loss: 0.0164 - val_accuracy: 0.8764\n",
      "\n",
      "Epoch 00011: val_loss did not improve from 0.01590\n",
      "Epoch 12/100\n",
      "86/86 [==============================] - 11s 134ms/step - loss: 0.0119 - accuracy: 0.9032 - val_loss: 0.0153 - val_accuracy: 0.8761\n",
      "\n",
      "Epoch 00012: val_loss improved from 0.01590 to 0.01532, saving model to D:/jorg/phd/fifth_semester/project_forestcare/data/Experiments/exp0/models\\resunet_0.h5\n",
      "Epoch 13/100\n",
      "86/86 [==============================] - 12s 136ms/step - loss: 0.0117 - accuracy: 0.9038 - val_loss: 0.0158 - val_accuracy: 0.8778\n",
      "\n",
      "Epoch 00013: val_loss did not improve from 0.01532\n",
      "Epoch 14/100\n",
      "86/86 [==============================] - 12s 141ms/step - loss: 0.0115 - accuracy: 0.9040 - val_loss: 0.0169 - val_accuracy: 0.8716\n",
      "\n",
      "Epoch 00014: val_loss did not improve from 0.01532\n",
      "Epoch 15/100\n",
      "86/86 [==============================] - 12s 136ms/step - loss: 0.0113 - accuracy: 0.9056 - val_loss: 0.0153 - val_accuracy: 0.8803\n",
      "\n",
      "Epoch 00015: val_loss improved from 0.01532 to 0.01528, saving model to D:/jorg/phd/fifth_semester/project_forestcare/data/Experiments/exp0/models\\resunet_0.h5\n",
      "Epoch 16/100\n",
      "86/86 [==============================] - 13s 148ms/step - loss: 0.0110 - accuracy: 0.9072 - val_loss: 0.0168 - val_accuracy: 0.8783\n",
      "\n",
      "Epoch 00016: val_loss did not improve from 0.01528\n",
      "Epoch 17/100\n",
      "86/86 [==============================] - 14s 167ms/step - loss: 0.0109 - accuracy: 0.9070 - val_loss: 0.0177 - val_accuracy: 0.8727\n",
      "\n",
      "Epoch 00017: val_loss did not improve from 0.01528\n",
      "Epoch 18/100\n",
      "86/86 [==============================] - 13s 147ms/step - loss: 0.0106 - accuracy: 0.9087 - val_loss: 0.0169 - val_accuracy: 0.8726\n",
      "\n",
      "Epoch 00018: val_loss did not improve from 0.01528\n",
      "Epoch 19/100\n",
      "86/86 [==============================] - 12s 140ms/step - loss: 0.0103 - accuracy: 0.9104 - val_loss: 0.0168 - val_accuracy: 0.8760\n",
      "\n",
      "Epoch 00019: val_loss did not improve from 0.01528\n",
      "Epoch 20/100\n",
      "86/86 [==============================] - 12s 141ms/step - loss: 0.0101 - accuracy: 0.9111 - val_loss: 0.0170 - val_accuracy: 0.8752\n",
      "\n",
      "Epoch 00020: val_loss did not improve from 0.01528\n",
      "Epoch 21/100\n",
      "86/86 [==============================] - 12s 142ms/step - loss: 0.0101 - accuracy: 0.9113 - val_loss: 0.0176 - val_accuracy: 0.8729\n",
      "\n",
      "Epoch 00021: val_loss did not improve from 0.01528\n",
      "Epoch 22/100\n",
      "86/86 [==============================] - 12s 142ms/step - loss: 0.0097 - accuracy: 0.9141 - val_loss: 0.0181 - val_accuracy: 0.8700\n",
      "\n",
      "Epoch 00022: val_loss did not improve from 0.01528\n",
      "Epoch 00022: early stopping\n"
     ]
    }
   ],
   "source": [
    "metrics_all = []\n",
    "\n",
    "for tm in range(0,times):\n",
    "    print('time: ', tm)\n",
    "\n",
    "    rows = patch_size\n",
    "    cols = patch_size\n",
    "    channels = image_stack.shape[-1]\n",
    "    adam = Adam(lr = 1e-3 , beta_1=0.9)\n",
    "    \n",
    "    loss = weighted_categorical_crossentropy(weights)\n",
    "    input_shape = (rows, cols, channels)\n",
    "    model = build_resunet(input_shape, nb_filters, number_class)\n",
    "    \n",
    "    model.compile(optimizer=adam, loss=loss, metrics=['accuracy'])\n",
    "    model.summary()\n",
    "\n",
    "    earlystop = EarlyStopping(monitor='val_loss', min_delta=0.0001, patience=10, verbose=1, mode='min')\n",
    "    checkpoint = ModelCheckpoint(path_models+ '/' + method +'_'+str(tm)+'.h5', monitor='val_loss', verbose=1, save_best_only=True, mode='min')\n",
    "    lr_reduce = ReduceLROnPlateau(factor=0.9, min_delta=0.0001, patience=5, verbose=1)\n",
    "    callbacks_list = [earlystop, checkpoint]\n",
    "    # train the model\n",
    "    start_training = time.time()\n",
    "    history = model.fit_generator(train_gen_crops,\n",
    "                              steps_per_epoch=len(X_train)*3//train_gen.batch_size,\n",
    "                              validation_data=valid_gen_crops,\n",
    "                              validation_steps=len(X_valid)*3//valid_gen.batch_size,\n",
    "                              epochs=100,\n",
    "                              callbacks=callbacks_list)\n",
    "    end_training = time.time() - start_training\n",
    "    metrics_all.append(end_training)\n",
    "    del model, history\n",
    "\n",
    "# Saving training time\n",
    "np.save(path_exp+'/metrics_tr.npy', metrics_all)"
   ]
  },
  {
   "cell_type": "code",
   "execution_count": 11,
   "metadata": {
    "colab": {
     "base_uri": "https://localhost:8080/"
    },
    "id": "nMem2rkfpL-g",
    "outputId": "f4cbf098-d23e-4ea4-ee34-deb5229e0de3"
   },
   "outputs": [
    {
     "name": "stdout",
     "output_type": "stream",
     "text": [
      "-30.0 -40.0\n",
      "time:  0\n"
     ]
    }
   ],
   "source": [
    "#%% Test loop\n",
    "metrics_ts = []\n",
    "n_pool = 4\n",
    "n_rows = 5\n",
    "n_cols = 5\n",
    "rows, cols = image_stack.shape[:2]\n",
    "pad_rows = rows - np.ceil(rows/(n_rows*2**n_pool))*n_rows*2**n_pool\n",
    "pad_cols = cols - np.ceil(cols/(n_cols*2**n_pool))*n_cols*2**n_pool\n",
    "print(pad_rows, pad_cols)\n",
    "\n",
    "npad = ((0, int(abs(pad_rows))), (0, int(abs(pad_cols))), (0, 0))\n",
    "image1_pad = np.pad(image_stack, pad_width=npad, mode='reflect')\n",
    "\n",
    "h, w, c = image1_pad.shape\n",
    "patch_size_rows = h//n_rows\n",
    "patch_size_cols = w//n_cols\n",
    "num_patches_x = int(h/patch_size_rows)\n",
    "num_patches_y = int(w/patch_size_cols)\n",
    "\n",
    "new_model = build_resunet(input_shape=(patch_size_rows,patch_size_cols, c), nb_filters = nb_filters, n_classes=3)\n",
    "\n",
    "metrics_all =[]\n",
    "\n",
    "for tm in range(0,times):\n",
    "    print('time: ', tm)\n",
    "    model = load_model(path_models+ '/' + method +'_'+str(tm)+'.h5', compile=False)\n",
    "    \n",
    "    for l in range(1, len(model.layers)):\n",
    "        new_model.layers[l].set_weights(model.layers[l].get_weights())\n",
    "    \n",
    "    start_test = time.time()\n",
    "    patch_t = []\n",
    "    \n",
    "    for i in range(0,num_patches_y):\n",
    "        for j in range(0,num_patches_x):\n",
    "            patch = image1_pad[patch_size_rows*j:patch_size_rows*(j+1), patch_size_cols*i:patch_size_cols*(i+1), :]\n",
    "            predictions_ = new_model.predict(np.expand_dims(patch, axis=0))\n",
    "            del patch \n",
    "            patch_t.append(predictions_[:,:,:,1])\n",
    "            del predictions_\n",
    "    ts_time =  time.time() - start_test\n",
    "    patches_pred = np.asarray(patch_t).astype(np.float32)\n",
    "    # Recinstructing predicted map\n",
    "    prob_recontructed = pred_reconctruct(h, w, num_patches_x, num_patches_y, patch_size_rows, patch_size_cols, patches_pred)\n",
    "    np.save(path_maps+'/'+'prob_'+str(tm)+'.npy',prob_recontructed) \n",
    "\n",
    "    metrics_all.append(ts_time)\n",
    "    del prob_recontructed, model, patches_pred\n",
    "metrics_ = np.asarray(metrics_all)\n",
    "\n",
    "# Saving test time\n",
    "np.save(path_exp+'/metrics_ts.npy', metrics_)"
   ]
  },
  {
   "cell_type": "code",
   "execution_count": 12,
   "metadata": {
    "colab": {
     "base_uri": "https://localhost:8080/",
     "height": 664
    },
    "id": "Ehh68acZW2lR",
    "outputId": "c8425340-4e10-421c-e30d-57f90058f6d5",
    "scrolled": true
   },
   "outputs": [
    {
     "name": "stdout",
     "output_type": "stream",
     "text": [
      "0\n"
     ]
    },
    {
     "data": {
      "text/plain": [
       "<matplotlib.image.AxesImage at 0x1e4d12e70d0>"
      ]
     },
     "execution_count": 12,
     "metadata": {},
     "output_type": "execute_result"
    },
    {
     "data": {
      "image/png": "[encoded data removed]",
      "text/plain": [
       "<Figure size 720x720 with 1 Axes>"
      ]
     },
     "metadata": {
      "needs_background": "light"
     },
     "output_type": "display_data"
    }
   ],
   "source": [
    "prob_rec = np.zeros((image1_pad.shape[0],image1_pad.shape[1], times))\n",
    "\n",
    "for tm in range (0, times):\n",
    "    print(tm)\n",
    "    prob_rec[:,:,tm] = np.load(path_maps+'/'+'prob_'+str(tm)+'.npy').astype(np.float32)\n",
    "\n",
    "mean_prob = np.mean(prob_rec, axis = -1)\n",
    "np.save(path_maps+'/prob_mean.npy', mean_prob)\n",
    "\n",
    "fig1 = plt.figure(figsize=(10,10))\n",
    "plt.imshow(mean_prob, cmap = 'jet')"
   ]
  },
  {
   "cell_type": "code",
   "execution_count": 13,
   "metadata": {
    "colab": {
     "base_uri": "https://localhost:8080/"
    },
    "id": "4P8pVKDxW6Lh",
    "outputId": "1cf070ef-93bc-4c6b-8b56-ea5797262531"
   },
   "outputs": [
    {
     "name": "stdout",
     "output_type": "stream",
     "text": [
      "0.9933619499206543\n",
      "0.9591080895785628\n",
      "0.9248542292364712\n",
      "0.8906003688943798\n",
      "0.8563465085522882\n",
      "0.8220926482101967\n",
      "0.7878387878681051\n",
      "0.7535849275260136\n",
      "0.7193310671839221\n",
      "0.6850772068418305\n",
      "0.650823346499739\n",
      "0.6165694861576475\n"
     ]
    },
    {
     "ename": "KeyboardInterrupt",
     "evalue": "",
     "output_type": "error",
     "traceback": [
      "\u001b[1;31m---------------------------------------------------------------------------\u001b[0m",
      "\u001b[1;31mKeyboardInterrupt\u001b[0m                         Traceback (most recent call last)",
      "\u001b[1;32m<__array_function__ internals>\u001b[0m in \u001b[0;36munravel_index\u001b[1;34m(*args, **kwargs)\u001b[0m\n",
      "\u001b[1;31mKeyboardInterrupt\u001b[0m: "
     ]
    },
    {
     "name": "stderr",
     "output_type": "stream",
     "text": [
      "Exception ignored in: 'skimage.morphology._max_tree._is_valid_neighbor'\n",
      "Traceback (most recent call last):\n",
      "  File \"<__array_function__ internals>\", line 5, in unravel_index\n",
      "KeyboardInterrupt: \n"
     ]
    },
    {
     "ename": "KeyboardInterrupt",
     "evalue": "",
     "output_type": "error",
     "traceback": [
      "\u001b[1;31m---------------------------------------------------------------------------\u001b[0m",
      "\u001b[1;31mKeyboardInterrupt\u001b[0m                         Traceback (most recent call last)",
      "\u001b[1;32mC:\\Users\\JCHAMO~1\\AppData\\Local\\Temp/ipykernel_7756/1406883895.py\u001b[0m in \u001b[0;36m<module>\u001b[1;34m\u001b[0m\n\u001b[0;32m     12\u001b[0m \u001b[0mProbList\u001b[0m \u001b[1;33m=\u001b[0m \u001b[0mnp\u001b[0m\u001b[1;33m.\u001b[0m\u001b[0mlinspace\u001b[0m\u001b[1;33m(\u001b[0m\u001b[0mPmax\u001b[0m\u001b[1;33m,\u001b[0m\u001b[1;36m0\u001b[0m\u001b[1;33m,\u001b[0m\u001b[0mNpoints\u001b[0m\u001b[1;33m)\u001b[0m\u001b[1;33m\u001b[0m\u001b[1;33m\u001b[0m\u001b[0m\n\u001b[0;32m     13\u001b[0m \u001b[1;33m\u001b[0m\u001b[0m\n\u001b[1;32m---> 14\u001b[1;33m \u001b[0mmetrics_\u001b[0m \u001b[1;33m=\u001b[0m \u001b[0mmatrics_AA_recall\u001b[0m\u001b[1;33m(\u001b[0m\u001b[0mProbList\u001b[0m\u001b[1;33m,\u001b[0m \u001b[0mmean_prob\u001b[0m\u001b[1;33m,\u001b[0m \u001b[0mlabel_mask\u001b[0m\u001b[1;33m,\u001b[0m \u001b[0mmask_amazon_ts\u001b[0m\u001b[1;33m,\u001b[0m \u001b[1;36m69\u001b[0m\u001b[1;33m)\u001b[0m\u001b[1;33m\u001b[0m\u001b[1;33m\u001b[0m\u001b[0m\n\u001b[0m\u001b[0;32m     15\u001b[0m \u001b[0mnp\u001b[0m\u001b[1;33m.\u001b[0m\u001b[0msave\u001b[0m\u001b[1;33m(\u001b[0m\u001b[0mpath_exp\u001b[0m\u001b[1;33m+\u001b[0m\u001b[1;34m'/acc_metrics.npy'\u001b[0m\u001b[1;33m,\u001b[0m\u001b[0mmetrics_\u001b[0m\u001b[1;33m)\u001b[0m\u001b[1;33m\u001b[0m\u001b[1;33m\u001b[0m\u001b[0m\n",
      "\u001b[1;32mD:\\jorg\\phd\\fifth_semester\\project_forestcare\\Res-U-Net-Acre\\utils_v1.py\u001b[0m in \u001b[0;36mmatrics_AA_recall\u001b[1;34m(thresholds_, prob_map, ref_reconstructed, mask_amazon_ts_, px_area)\u001b[0m\n\u001b[0;32m    271\u001b[0m \u001b[1;33m\u001b[0m\u001b[0m\n\u001b[0;32m    272\u001b[0m         \u001b[1;31m# Metrics\u001b[0m\u001b[1;33m\u001b[0m\u001b[1;33m\u001b[0m\u001b[1;33m\u001b[0m\u001b[0m\n\u001b[1;32m--> 273\u001b[1;33m         \u001b[0mcm\u001b[0m \u001b[1;33m=\u001b[0m \u001b[0mconfusion_matrix\u001b[0m\u001b[1;33m(\u001b[0m\u001b[0mref_final\u001b[0m\u001b[1;33m,\u001b[0m \u001b[0mpre_final\u001b[0m\u001b[1;33m)\u001b[0m\u001b[1;33m\u001b[0m\u001b[1;33m\u001b[0m\u001b[0m\n\u001b[0m\u001b[0;32m    274\u001b[0m         \u001b[1;31m#TN = cm[0,0]\u001b[0m\u001b[1;33m\u001b[0m\u001b[1;33m\u001b[0m\u001b[1;33m\u001b[0m\u001b[0m\n\u001b[0;32m    275\u001b[0m         \u001b[0mFN\u001b[0m \u001b[1;33m=\u001b[0m \u001b[0mcm\u001b[0m\u001b[1;33m[\u001b[0m\u001b[1;36m1\u001b[0m\u001b[1;33m,\u001b[0m\u001b[1;36m0\u001b[0m\u001b[1;33m]\u001b[0m\u001b[1;33m\u001b[0m\u001b[1;33m\u001b[0m\u001b[0m\n",
      "\u001b[1;32m~\\Anaconda3\\envs\\tf2\\lib\\site-packages\\sklearn\\utils\\validation.py\u001b[0m in \u001b[0;36minner_f\u001b[1;34m(*args, **kwargs)\u001b[0m\n\u001b[0;32m     61\u001b[0m             \u001b[0mextra_args\u001b[0m \u001b[1;33m=\u001b[0m \u001b[0mlen\u001b[0m\u001b[1;33m(\u001b[0m\u001b[0margs\u001b[0m\u001b[1;33m)\u001b[0m \u001b[1;33m-\u001b[0m \u001b[0mlen\u001b[0m\u001b[1;33m(\u001b[0m\u001b[0mall_args\u001b[0m\u001b[1;33m)\u001b[0m\u001b[1;33m\u001b[0m\u001b[1;33m\u001b[0m\u001b[0m\n\u001b[0;32m     62\u001b[0m             \u001b[1;32mif\u001b[0m \u001b[0mextra_args\u001b[0m \u001b[1;33m<=\u001b[0m \u001b[1;36m0\u001b[0m\u001b[1;33m:\u001b[0m\u001b[1;33m\u001b[0m\u001b[1;33m\u001b[0m\u001b[0m\n\u001b[1;32m---> 63\u001b[1;33m                 \u001b[1;32mreturn\u001b[0m \u001b[0mf\u001b[0m\u001b[1;33m(\u001b[0m\u001b[1;33m*\u001b[0m\u001b[0margs\u001b[0m\u001b[1;33m,\u001b[0m \u001b[1;33m**\u001b[0m\u001b[0mkwargs\u001b[0m\u001b[1;33m)\u001b[0m\u001b[1;33m\u001b[0m\u001b[1;33m\u001b[0m\u001b[0m\n\u001b[0m\u001b[0;32m     64\u001b[0m \u001b[1;33m\u001b[0m\u001b[0m\n\u001b[0;32m     65\u001b[0m             \u001b[1;31m# extra_args > 0\u001b[0m\u001b[1;33m\u001b[0m\u001b[1;33m\u001b[0m\u001b[1;33m\u001b[0m\u001b[0m\n",
      "\u001b[1;32m~\\Anaconda3\\envs\\tf2\\lib\\site-packages\\sklearn\\metrics\\_classification.py\u001b[0m in \u001b[0;36mconfusion_matrix\u001b[1;34m(y_true, y_pred, labels, sample_weight, normalize)\u001b[0m\n\u001b[0;32m    297\u001b[0m \u001b[1;33m\u001b[0m\u001b[0m\n\u001b[0;32m    298\u001b[0m     \"\"\"\n\u001b[1;32m--> 299\u001b[1;33m     \u001b[0my_type\u001b[0m\u001b[1;33m,\u001b[0m \u001b[0my_true\u001b[0m\u001b[1;33m,\u001b[0m \u001b[0my_pred\u001b[0m \u001b[1;33m=\u001b[0m \u001b[0m_check_targets\u001b[0m\u001b[1;33m(\u001b[0m\u001b[0my_true\u001b[0m\u001b[1;33m,\u001b[0m \u001b[0my_pred\u001b[0m\u001b[1;33m)\u001b[0m\u001b[1;33m\u001b[0m\u001b[1;33m\u001b[0m\u001b[0m\n\u001b[0m\u001b[0;32m    300\u001b[0m     \u001b[1;32mif\u001b[0m \u001b[0my_type\u001b[0m \u001b[1;32mnot\u001b[0m \u001b[1;32min\u001b[0m \u001b[1;33m(\u001b[0m\u001b[1;34m\"binary\"\u001b[0m\u001b[1;33m,\u001b[0m \u001b[1;34m\"multiclass\"\u001b[0m\u001b[1;33m)\u001b[0m\u001b[1;33m:\u001b[0m\u001b[1;33m\u001b[0m\u001b[1;33m\u001b[0m\u001b[0m\n\u001b[0;32m    301\u001b[0m         \u001b[1;32mraise\u001b[0m \u001b[0mValueError\u001b[0m\u001b[1;33m(\u001b[0m\u001b[1;34m\"%s is not supported\"\u001b[0m \u001b[1;33m%\u001b[0m \u001b[0my_type\u001b[0m\u001b[1;33m)\u001b[0m\u001b[1;33m\u001b[0m\u001b[1;33m\u001b[0m\u001b[0m\n",
      "\u001b[1;32m~\\Anaconda3\\envs\\tf2\\lib\\site-packages\\sklearn\\metrics\\_classification.py\u001b[0m in \u001b[0;36m_check_targets\u001b[1;34m(y_true, y_pred)\u001b[0m\n\u001b[0;32m    105\u001b[0m         \u001b[1;32mif\u001b[0m \u001b[0my_type\u001b[0m \u001b[1;33m==\u001b[0m \u001b[1;34m\"binary\"\u001b[0m\u001b[1;33m:\u001b[0m\u001b[1;33m\u001b[0m\u001b[1;33m\u001b[0m\u001b[0m\n\u001b[0;32m    106\u001b[0m             \u001b[1;32mtry\u001b[0m\u001b[1;33m:\u001b[0m\u001b[1;33m\u001b[0m\u001b[1;33m\u001b[0m\u001b[0m\n\u001b[1;32m--> 107\u001b[1;33m                 \u001b[0munique_values\u001b[0m \u001b[1;33m=\u001b[0m \u001b[0mnp\u001b[0m\u001b[1;33m.\u001b[0m\u001b[0munion1d\u001b[0m\u001b[1;33m(\u001b[0m\u001b[0my_true\u001b[0m\u001b[1;33m,\u001b[0m \u001b[0my_pred\u001b[0m\u001b[1;33m)\u001b[0m\u001b[1;33m\u001b[0m\u001b[1;33m\u001b[0m\u001b[0m\n\u001b[0m\u001b[0;32m    108\u001b[0m             \u001b[1;32mexcept\u001b[0m \u001b[0mTypeError\u001b[0m \u001b[1;32mas\u001b[0m \u001b[0me\u001b[0m\u001b[1;33m:\u001b[0m\u001b[1;33m\u001b[0m\u001b[1;33m\u001b[0m\u001b[0m\n\u001b[0;32m    109\u001b[0m                 \u001b[1;31m# We expect y_true and y_pred to be of the same data type.\u001b[0m\u001b[1;33m\u001b[0m\u001b[1;33m\u001b[0m\u001b[1;33m\u001b[0m\u001b[0m\n",
      "\u001b[1;32m<__array_function__ internals>\u001b[0m in \u001b[0;36munion1d\u001b[1;34m(*args, **kwargs)\u001b[0m\n",
      "\u001b[1;32m~\\Anaconda3\\envs\\tf2\\lib\\site-packages\\numpy\\lib\\arraysetops.py\u001b[0m in \u001b[0;36munion1d\u001b[1;34m(ar1, ar2)\u001b[0m\n\u001b[0;32m    750\u001b[0m     \u001b[0marray\u001b[0m\u001b[1;33m(\u001b[0m\u001b[1;33m[\u001b[0m\u001b[1;36m1\u001b[0m\u001b[1;33m,\u001b[0m \u001b[1;36m2\u001b[0m\u001b[1;33m,\u001b[0m \u001b[1;36m3\u001b[0m\u001b[1;33m,\u001b[0m \u001b[1;36m4\u001b[0m\u001b[1;33m,\u001b[0m \u001b[1;36m6\u001b[0m\u001b[1;33m]\u001b[0m\u001b[1;33m)\u001b[0m\u001b[1;33m\u001b[0m\u001b[1;33m\u001b[0m\u001b[0m\n\u001b[0;32m    751\u001b[0m     \"\"\"\n\u001b[1;32m--> 752\u001b[1;33m     \u001b[1;32mreturn\u001b[0m \u001b[0munique\u001b[0m\u001b[1;33m(\u001b[0m\u001b[0mnp\u001b[0m\u001b[1;33m.\u001b[0m\u001b[0mconcatenate\u001b[0m\u001b[1;33m(\u001b[0m\u001b[1;33m(\u001b[0m\u001b[0mar1\u001b[0m\u001b[1;33m,\u001b[0m \u001b[0mar2\u001b[0m\u001b[1;33m)\u001b[0m\u001b[1;33m,\u001b[0m \u001b[0maxis\u001b[0m\u001b[1;33m=\u001b[0m\u001b[1;32mNone\u001b[0m\u001b[1;33m)\u001b[0m\u001b[1;33m)\u001b[0m\u001b[1;33m\u001b[0m\u001b[1;33m\u001b[0m\u001b[0m\n\u001b[0m\u001b[0;32m    753\u001b[0m \u001b[1;33m\u001b[0m\u001b[0m\n\u001b[0;32m    754\u001b[0m \u001b[1;33m\u001b[0m\u001b[0m\n",
      "\u001b[1;32m<__array_function__ internals>\u001b[0m in \u001b[0;36munique\u001b[1;34m(*args, **kwargs)\u001b[0m\n",
      "\u001b[1;32m~\\Anaconda3\\envs\\tf2\\lib\\site-packages\\numpy\\lib\\arraysetops.py\u001b[0m in \u001b[0;36munique\u001b[1;34m(ar, return_index, return_inverse, return_counts, axis)\u001b[0m\n\u001b[0;32m    260\u001b[0m     \u001b[0mar\u001b[0m \u001b[1;33m=\u001b[0m \u001b[0mnp\u001b[0m\u001b[1;33m.\u001b[0m\u001b[0masanyarray\u001b[0m\u001b[1;33m(\u001b[0m\u001b[0mar\u001b[0m\u001b[1;33m)\u001b[0m\u001b[1;33m\u001b[0m\u001b[1;33m\u001b[0m\u001b[0m\n\u001b[0;32m    261\u001b[0m     \u001b[1;32mif\u001b[0m \u001b[0maxis\u001b[0m \u001b[1;32mis\u001b[0m \u001b[1;32mNone\u001b[0m\u001b[1;33m:\u001b[0m\u001b[1;33m\u001b[0m\u001b[1;33m\u001b[0m\u001b[0m\n\u001b[1;32m--> 262\u001b[1;33m         \u001b[0mret\u001b[0m \u001b[1;33m=\u001b[0m \u001b[0m_unique1d\u001b[0m\u001b[1;33m(\u001b[0m\u001b[0mar\u001b[0m\u001b[1;33m,\u001b[0m \u001b[0mreturn_index\u001b[0m\u001b[1;33m,\u001b[0m \u001b[0mreturn_inverse\u001b[0m\u001b[1;33m,\u001b[0m \u001b[0mreturn_counts\u001b[0m\u001b[1;33m)\u001b[0m\u001b[1;33m\u001b[0m\u001b[1;33m\u001b[0m\u001b[0m\n\u001b[0m\u001b[0;32m    263\u001b[0m         \u001b[1;32mreturn\u001b[0m \u001b[0m_unpack_tuple\u001b[0m\u001b[1;33m(\u001b[0m\u001b[0mret\u001b[0m\u001b[1;33m)\u001b[0m\u001b[1;33m\u001b[0m\u001b[1;33m\u001b[0m\u001b[0m\n\u001b[0;32m    264\u001b[0m \u001b[1;33m\u001b[0m\u001b[0m\n",
      "\u001b[1;32m~\\Anaconda3\\envs\\tf2\\lib\\site-packages\\numpy\\lib\\arraysetops.py\u001b[0m in \u001b[0;36m_unique1d\u001b[1;34m(ar, return_index, return_inverse, return_counts)\u001b[0m\n\u001b[0;32m    321\u001b[0m         \u001b[0maux\u001b[0m \u001b[1;33m=\u001b[0m \u001b[0mar\u001b[0m\u001b[1;33m[\u001b[0m\u001b[0mperm\u001b[0m\u001b[1;33m]\u001b[0m\u001b[1;33m\u001b[0m\u001b[1;33m\u001b[0m\u001b[0m\n\u001b[0;32m    322\u001b[0m     \u001b[1;32melse\u001b[0m\u001b[1;33m:\u001b[0m\u001b[1;33m\u001b[0m\u001b[1;33m\u001b[0m\u001b[0m\n\u001b[1;32m--> 323\u001b[1;33m         \u001b[0mar\u001b[0m\u001b[1;33m.\u001b[0m\u001b[0msort\u001b[0m\u001b[1;33m(\u001b[0m\u001b[1;33m)\u001b[0m\u001b[1;33m\u001b[0m\u001b[1;33m\u001b[0m\u001b[0m\n\u001b[0m\u001b[0;32m    324\u001b[0m         \u001b[0maux\u001b[0m \u001b[1;33m=\u001b[0m \u001b[0mar\u001b[0m\u001b[1;33m\u001b[0m\u001b[1;33m\u001b[0m\u001b[0m\n\u001b[0;32m    325\u001b[0m     \u001b[0mmask\u001b[0m \u001b[1;33m=\u001b[0m \u001b[0mnp\u001b[0m\u001b[1;33m.\u001b[0m\u001b[0mempty\u001b[0m\u001b[1;33m(\u001b[0m\u001b[0maux\u001b[0m\u001b[1;33m.\u001b[0m\u001b[0mshape\u001b[0m\u001b[1;33m,\u001b[0m \u001b[0mdtype\u001b[0m\u001b[1;33m=\u001b[0m\u001b[0mnp\u001b[0m\u001b[1;33m.\u001b[0m\u001b[0mbool_\u001b[0m\u001b[1;33m)\u001b[0m\u001b[1;33m\u001b[0m\u001b[1;33m\u001b[0m\u001b[0m\n",
      "\u001b[1;31mKeyboardInterrupt\u001b[0m: "
     ]
    }
   ],
   "source": [
    "# Computing metrics over the test tiles\n",
    "mean_prob = mean_prob[:label_mask.shape[0], :label_mask.shape[1]]\n",
    "ref1 = np.ones_like(label_mask).astype(np.float32)\n",
    "\n",
    "ref1 [label_mask == 2] = 0\n",
    "TileMask = mask_amazon_ts * ref1\n",
    "GTTruePositives = label_mask==1\n",
    "\n",
    "# Number of thresholds to generate the curve    \n",
    "Npoints = 6\n",
    "Pmax = np.max(mean_prob[GTTruePositives * TileMask ==1])\n",
    "ProbList = np.linspace(Pmax,0,Npoints)\n",
    "    \n",
    "metrics_ = matrics_AA_recall(ProbList, mean_prob, label_mask, mask_amazon_ts, 69)\n",
    "np.save(path_exp+'/acc_metrics.npy',metrics_)"
   ]
  },
  {
   "cell_type": "code",
   "execution_count": null,
   "metadata": {
    "colab": {
     "base_uri": "https://localhost:8080/"
    },
    "id": "DB-vr1sq6PwK",
    "outputId": "014201d1-b182-4eed-898a-4979b3046d7f"
   },
   "outputs": [],
   "source": [
    "# Complete NaN values\n",
    "metrics_copy = metrics_.copy()\n",
    "metrics_copy = complete_nan_values(metrics_copy)\n",
    "Recall = metrics_copy[:,0]\n",
    "Precision = metrics_copy[:,1]\n",
    "\n",
    "# Generating mAP curve\n",
    "mAP = Area_under_the_curve(Recall, Precision)\n",
    "print('mAP: ', mAP)\n",
    "\n",
    "plt.close('all')\n",
    "plt.plot(Recall, Precision)\n",
    "plt.grid()"
   ]
  },
  {
   "cell_type": "code",
   "execution_count": null,
   "metadata": {},
   "outputs": [],
   "source": []
  }
 ],
 "metadata": {
  "colab": {
   "collapsed_sections": [],
   "name": "SAR_OPTICAL.ipynb",
   "provenance": []
  },
  "kernelspec": {
   "display_name": "Python 3 (ipykernel)",
   "language": "python",
   "name": "python3"
  },
  "language_info": {
   "codemirror_mode": {
    "name": "ipython",
    "version": 3
   },
   "file_extension": ".py",
   "mimetype": "text/x-python",
   "name": "python",
   "nbconvert_exporter": "python",
   "pygments_lexer": "ipython3",
   "version": "3.9.6"
  }
 },
 "nbformat": 4,
 "nbformat_minor": 1
}
